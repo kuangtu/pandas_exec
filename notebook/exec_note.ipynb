{
 "cells": [
  {
   "cell_type": "markdown",
   "metadata": {},
   "source": [
    "# 对于pandas进行练习总结"
   ]
  },
  {
   "cell_type": "markdown",
   "metadata": {},
   "source": [
    "## 1.名称设置、重命名"
   ]
  },
  {
   "cell_type": "markdown",
   "metadata": {},
   "source": [
    "### 1.1 列名设置"
   ]
  },
  {
   "cell_type": "markdown",
   "metadata": {},
   "source": [
    "创建一个dataframe"
   ]
  },
  {
   "cell_type": "code",
   "execution_count": 2,
   "metadata": {},
   "outputs": [
    {
     "name": "stdout",
     "output_type": "stream",
     "text": [
      "     code  close   vol\n",
      "0  000001  100.0  1000\n",
      "1  000002   91.1   200\n",
      "2  000003    5.4  3000\n"
     ]
    }
   ],
   "source": [
    "import pandas as pd\n",
    "perf_dict = {\"code\": ['000001', '000002', '000003'],\n",
    "                 \"close\": [100, 91.1, 5.4],\n",
    "                 \"vol\": [1000, 200, 3000]}\n",
    "df = pd.DataFrame(perf_dict)\n",
    "\n",
    "print(df)"
   ]
  },
  {
   "cell_type": "markdown",
   "metadata": {},
   "source": [
    "通过rename修改列名,columns参数设置字典映射"
   ]
  },
  {
   "cell_type": "code",
   "execution_count": 4,
   "metadata": {},
   "outputs": [
    {
     "name": "stdout",
     "output_type": "stream",
     "text": [
      "     code  close  volume\n",
      "0  000001  100.0    1000\n",
      "1  000002   91.1     200\n",
      "2  000003    5.4    3000\n"
     ]
    }
   ],
   "source": [
    "df.rename(columns={'vol':'volume'}, inplace=True)\n",
    "print(df)"
   ]
  },
  {
   "cell_type": "markdown",
   "metadata": {},
   "source": [
    "创建一个Series"
   ]
  },
  {
   "cell_type": "code",
   "execution_count": 9,
   "metadata": {},
   "outputs": [
    {
     "name": "stdout",
     "output_type": "stream",
     "text": [
      "0    000001\n",
      "1    000002\n",
      "2    000003\n",
      "Name: code, dtype: object\n"
     ]
    }
   ],
   "source": [
    "series = pd.Series(['000001', '000002', '000003'], name='code')\n",
    "print(series)"
   ]
  },
  {
   "cell_type": "markdown",
   "metadata": {},
   "source": [
    "### 1.2 索引设置"
   ]
  },
  {
   "cell_type": "markdown",
   "metadata": {},
   "source": [
    "通过rename方法，index参数设置字典映射"
   ]
  },
  {
   "cell_type": "code",
   "execution_count": 11,
   "metadata": {},
   "outputs": [
    {
     "name": "stdout",
     "output_type": "stream",
     "text": [
      "          code  close  volume\n",
      "first   000001  100.0    1000\n",
      "second  000002   91.1     200\n",
      "2       000003    5.4    3000\n"
     ]
    }
   ],
   "source": [
    "df_copy = df.copy()\n",
    "df_copy.rename(index={0: 'first', 1: 'second'}, inplace=True)\n",
    "print(df_copy)"
   ]
  },
  {
   "cell_type": "code",
   "execution_count": 15,
   "metadata": {},
   "outputs": [
    {
     "name": "stdout",
     "output_type": "stream",
     "text": [
      "0    000001\n",
      "1    000002\n",
      "2    000003\n",
      "Name: code, dtype: object\n"
     ]
    }
   ],
   "source": [
    "series_copy = series.copy()\n",
    "series_copy.rename(index={0:\"0\",1:'1'}, inplace=True)\n",
    "print(series_copy)"
   ]
  },
  {
   "cell_type": "raw",
   "metadata": {},
   "source": [
    "如果需要同时修改列名和索引，rename方法中，同时使用columns和index参数。"
   ]
  }
 ],
 "metadata": {
  "kernelspec": {
   "display_name": "Python 3",
   "language": "python",
   "name": "python3"
  },
  "language_info": {
   "codemirror_mode": {
    "name": "ipython",
    "version": 3
   },
   "file_extension": ".py",
   "mimetype": "text/x-python",
   "name": "python",
   "nbconvert_exporter": "python",
   "pygments_lexer": "ipython3",
   "version": "3.7.0"
  }
 },
 "nbformat": 4,
 "nbformat_minor": 1
}
